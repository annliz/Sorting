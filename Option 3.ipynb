{
 "cells": [
  {
   "cell_type": "markdown",
   "metadata": {},
   "source": [
    "### Comparisons and swaps\n",
    "\n",
    "Assuming our goal is to sort from smallest to largest,\n",
    "\n",
    "BEST-CASE RUNNING TIME IS **O(N)**: The list is already sorted. Each value is larger than the previous, so only one comparison is needed to find its spot, and 0 steps needed to switch spots. Therefore we need a total on **N * 1 = N comparisons, and N * 0 = 0 swaps**.\n",
    "\n",
    "WORST-CASE RUNNING TIME IS **O(N^2)**: The list is sorted in reverse order. Each value is smaller than all of the previous numbers. For the second value, one comparison is needed to sort it and one to swap it into place. The third value needs to be compared to the previous two, and also needs two swaps to put it in place. Etc. The Nth value needs to be compared to all of the other N-1 values, and since it is put into the first spot, all other N-1 values must shift places. Thus we have **sum(1:N-1) = (N^2-N)/2 comparisons and sum(1:N-1) = (N^2-N)/2 swaps**."
   ]
  },
  {
   "cell_type": "markdown",
   "metadata": {},
   "source": [
    "### Showing my answers are correct\n",
    "\n",
    "We provide the following implementation of insertion sort:"
   ]
  },
  {
   "cell_type": "code",
   "execution_count": 1,
   "metadata": {},
   "outputs": [],
   "source": [
    "def insertion_sort (input_array):\n",
    "    for ii in range(1, len(input_array)):\n",
    "        current_element = input_array[ii]\n",
    "        jj = ii - 1\n",
    "        while (jj >= 0 and current_element < input_array[jj]):\n",
    "            input_array[jj+1] = input_array[jj]\n",
    "            jj -= 1\n",
    "        input_array[jj+1] = current_element"
   ]
  },
  {
   "cell_type": "markdown",
   "metadata": {},
   "source": [
    "**Best-case running time.** Based on your answer to [Option 3](https://docs.google.com/document/d/1PlBMaCblIotfho8H2o2JjUu0AdO8y9RQF1-Xz3pP7RE/edit#), create a function that takes in an integer and returns a list whose size is that integer, and which will produce the best-case running time for insertion sort."
   ]
  },
  {
   "cell_type": "code",
   "execution_count": 2,
   "metadata": {},
   "outputs": [],
   "source": [
    "def create_best_case_input(size):\n",
    "    bestArray = [0]*size\n",
    "    for i in range(size):\n",
    "        bestArray[i] = i\n",
    "    return bestArray"
   ]
  },
  {
   "cell_type": "markdown",
   "metadata": {},
   "source": [
    "Using the %time function, run the insertion sort implementation on best-case input lists of various sizes, and show that your answer to option 3 is correct. An example of how to use %time is given below."
   ]
  },
  {
   "cell_type": "code",
   "execution_count": 12,
   "metadata": {},
   "outputs": [
    {
     "name": "stdout",
     "output_type": "stream",
     "text": [
      "CPU times: user 312 µs, sys: 9 µs, total: 321 µs\n",
      "Wall time: 325 µs\n"
     ]
    }
   ],
   "source": [
    "%time insertion_sort(create_best_case_input(1000))"
   ]
  },
  {
   "cell_type": "markdown",
   "metadata": {},
   "source": [
    "**Worst case running time.** Repeat this exercise for the worst-case running time."
   ]
  },
  {
   "cell_type": "code",
   "execution_count": 14,
   "metadata": {},
   "outputs": [],
   "source": [
    "def create_worst_case_input(size):\n",
    "    worstArray = [0]*size\n",
    "    for i in range(size):\n",
    "        worstArray[i] = size-i\n",
    "    return worstArray"
   ]
  },
  {
   "cell_type": "code",
   "execution_count": 15,
   "metadata": {},
   "outputs": [
    {
     "name": "stdout",
     "output_type": "stream",
     "text": [
      "CPU times: user 79.5 ms, sys: 2.24 ms, total: 81.8 ms\n",
      "Wall time: 82.4 ms\n"
     ]
    }
   ],
   "source": [
    "%time insertion_sort(create_worst_case_input(1000))"
   ]
  },
  {
   "cell_type": "code",
   "execution_count": null,
   "metadata": {},
   "outputs": [],
   "source": []
  }
 ],
 "metadata": {
  "kernelspec": {
   "display_name": "Python 3",
   "language": "python",
   "name": "python3"
  },
  "language_info": {
   "codemirror_mode": {
    "name": "ipython",
    "version": 3
   },
   "file_extension": ".py",
   "mimetype": "text/x-python",
   "name": "python",
   "nbconvert_exporter": "python",
   "pygments_lexer": "ipython3",
   "version": "3.7.4"
  }
 },
 "nbformat": 4,
 "nbformat_minor": 2
}
